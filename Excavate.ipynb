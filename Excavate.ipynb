{
 "cells": [
  {
   "cell_type": "markdown",
   "metadata": {},
   "source": [
    "Importing Libraries"
   ]
  },
  {
   "cell_type": "code",
   "execution_count": 2,
   "metadata": {},
   "outputs": [],
   "source": [
    "import pandas as pd\n",
    "import numpy as np\n",
    "from sklearn.model_selection import train_test_split\n",
    "from sklearn.ensemble import RandomForestClassifier, RandomForestRegressor\n",
    "from sklearn.metrics import classification_report, mean_squared_error, accuracy_score, r2_score,confusion_matrix\n",
    "\n",
    "import matplotlib.pyplot as plt\n",
    "import seaborn as sns\n",
    "from sklearn.preprocessing import LabelEncoder"
   ]
  },
  {
   "cell_type": "markdown",
   "metadata": {},
   "source": [
    "Dataset\n"
   ]
  },
  {
   "cell_type": "code",
   "execution_count": 3,
   "metadata": {},
   "outputs": [
    {
     "name": "stdout",
     "output_type": "stream",
     "text": [
      "  functional group   A  A_OS  A'  A'_OS  A_HOMO-  A_HOMO+   A_IE-   A_IE+  \\\n",
      "0       AgBaAuCdO6  Ag     3  Ba      2    0.585   -3.820  114.05  616.95   \n",
      "1       AgBaAuHgO6  Ag     3  Ba      2    0.585   -3.820  114.05  616.95   \n",
      "2       AgBaMoCdO6  Ag     3  Ba      2    0.585   -3.820  114.05  616.95   \n",
      "3           AgBiO3  Ag     1  Ag      1    0.000   -4.405    0.00  731.00   \n",
      "4           AgBrO3  Ag     1  Ag      1    0.000   -4.405    0.00  731.00   \n",
      "\n",
      "   A_LUMO-  ...   B_X+  B_Z_radii-  B_Z_radii+  B_e_affin-  B_e_affin+  \\\n",
      "0   0.6485  ...  2.115      0.2225      2.4375       145.4        77.4   \n",
      "1   0.6485  ...  2.270      0.1250      2.5350       135.4        87.4   \n",
      "2   0.6485  ...  1.925      0.2525      2.4675        70.0         2.0   \n",
      "3   0.0000  ...  2.020      0.0000      1.9970         0.0        91.3   \n",
      "4   0.0000  ...  2.960      0.0000      1.2000         0.0       324.7   \n",
      "\n",
      "   PBE band gap        μ       μĀ     μ𝐵 ̅        t  \n",
      "0        0.0000  0.54286  0.13571  0.13571  0.92317  \n",
      "1        0.0000  0.56786  0.13571  0.16071  0.90845  \n",
      "2        0.0000  0.55714  0.13571  0.12143  0.91470  \n",
      "3        0.0000  0.54286  0.00000  0.00000  0.94608  \n",
      "4        0.1524  0.44286  0.00000  0.00000  1.01165  \n",
      "\n",
      "[5 rows x 38 columns]\n"
     ]
    }
   ],
   "source": [
    "\n",
    "# Load the dataframe\n",
    "data = pd.read_excel(\"dataset_excavate.xlsx\")\n",
    "df = pd.DataFrame(data)\n",
    "\n",
    "# Display the first few rows of the dataset\n",
    "print(df.head())"
   ]
  },
  {
   "cell_type": "markdown",
   "metadata": {},
   "source": [
    "Data Preprocessing"
   ]
  },
  {
   "cell_type": "code",
   "execution_count": null,
   "metadata": {},
   "outputs": [
    {
     "name": "stdout",
     "output_type": "stream",
     "text": [
      "functional group    0\n",
      "A                   0\n",
      "A_OS                0\n",
      "A'                  0\n",
      "A'_OS               0\n",
      "A_HOMO-             0\n",
      "A_HOMO+             0\n",
      "A_IE-               0\n",
      "A_IE+               0\n",
      "A_LUMO-             0\n",
      "A_LUMO+             0\n",
      "A_X-                0\n",
      "A_X+                0\n",
      "A_Z_radii-          0\n",
      "A_Z_radii+          0\n",
      "A_e_affin-          0\n",
      "A_e_affin+          0\n",
      "Bi                  0\n",
      "B_OS                0\n",
      "B'                  0\n",
      "B'_OS               0\n",
      "B_HOMO-             0\n",
      "B_HOMO+             0\n",
      "B_IE-               0\n",
      "B_IE+               0\n",
      "B_LUMO-             0\n",
      "B_LUMO+             0\n",
      "B_X-                0\n",
      "B_X+                0\n",
      "B_Z_radii-          0\n",
      "B_Z_radii+          0\n",
      "B_e_affin-          0\n",
      "B_e_affin+          0\n",
      "PBE band gap        0\n",
      "μ                   0\n",
      "μĀ                  0\n",
      "μ𝐵 ̅                0\n",
      "t                   0\n",
      "dtype: int64\n"
     ]
    }
   ],
   "source": [
    "\n",
    "# Preprocessing\n",
    "# Check for missing values\n",
    "print(df.isnull().sum())\n",
    "\n",
    "# Convert non-numeric columns to numeric\n",
    "# For categorical columns, use Label Encoding or OneHot Encoding\n",
    "for column in df.select_dtypes(include=['object']).columns:\n",
    "    try:\n",
    "        # If a column is categorical,encoding it\n",
    "        df[column] = LabelEncoder().fit_transform(df[column].astype(str))\n",
    "    except Exception as e:\n",
    "        print(f\"Could not encode column {column} due to {e}\")\n",
    "\n",
    "# Handle missing values by filling with mean for numeric columns\n",
    "df.fillna(df.mean(), inplace=True)"
   ]
  },
  {
   "cell_type": "markdown",
   "metadata": {},
   "source": [
    "Feature Selection"
   ]
  },
  {
   "cell_type": "code",
   "execution_count": 5,
   "metadata": {},
   "outputs": [
    {
     "name": "stdout",
     "output_type": "stream",
     "text": [
      "              precision    recall  f1-score   support\n",
      "\n",
      "           0       0.90      0.97      0.93       694\n",
      "           1       0.92      0.79      0.85       337\n",
      "\n",
      "    accuracy                           0.91      1031\n",
      "   macro avg       0.91      0.88      0.89      1031\n",
      "weighted avg       0.91      0.91      0.91      1031\n",
      "\n",
      "Classification Accuracy: 0.9088263821532493\n"
     ]
    }
   ],
   "source": [
    "# Feature selection for classification\n",
    "X_classification = df.drop(columns=['PBE band gap'])\n",
    "y_classification = (df['PBE band gap'] >= 0.5).astype(int)  # 1 for insulators, 0 for non-insulators\n",
    "\n",
    "# Split the dataset into training and testing sets (80-20 split)\n",
    "X_train_class, X_test_class, y_train_class, y_test_class = train_test_split(X_classification, y_classification, test_size=0.2, random_state=42)\n",
    "\n",
    "# Create and train the classification model\n",
    "classifier = RandomForestClassifier(n_estimators=100, random_state=42)\n",
    "classifier.fit(X_train_class, y_train_class)\n",
    "\n",
    "# Make predictions\n",
    "y_pred_class = classifier.predict(X_test_class)\n",
    "\n",
    "# Evaluate the classification model\n",
    "print(classification_report(y_test_class, y_pred_class))\n",
    "\n",
    "# Calculate accuracy for classification\n",
    "classification_accuracy = accuracy_score(y_test_class, y_pred_class)\n",
    "print(f'Classification Accuracy: {classification_accuracy}')"
   ]
  },
  {
   "cell_type": "markdown",
   "metadata": {},
   "source": [
    "Prediction Values"
   ]
  },
  {
   "cell_type": "code",
   "execution_count": 6,
   "metadata": {},
   "outputs": [
    {
     "name": "stdout",
     "output_type": "stream",
     "text": [
      "\n",
      "Classification Results (Actual vs Predicted):\n",
      "      Actual  Predicted\n",
      "1879       0          0\n",
      "1417       1          1\n",
      "2968       0          0\n",
      "1020       0          0\n",
      "4724       1          1\n",
      "...      ...        ...\n",
      "4872       0          0\n",
      "1871       1          1\n",
      "2981       1          1\n",
      "1973       0          0\n",
      "4700       0          0\n",
      "\n",
      "[1031 rows x 2 columns]\n"
     ]
    }
   ],
   "source": [
    "# Creating a DataFrame to display actual vs predicted values for classification\n",
    "classification_results = pd.DataFrame({\n",
    "    'Actual': y_test_class,\n",
    "    'Predicted': y_pred_class\n",
    "})\n",
    "\n",
    "print(\"\\nClassification Results (Actual vs Predicted):\")\n",
    "print(classification_results)"
   ]
  },
  {
   "cell_type": "markdown",
   "metadata": {},
   "source": [
    "Regression"
   ]
  },
  {
   "cell_type": "code",
   "execution_count": 7,
   "metadata": {},
   "outputs": [
    {
     "name": "stdout",
     "output_type": "stream",
     "text": [
      "Mean Squared Error for Regression: 0.12521733692897802\n",
      "R^2 Score for Regression: 0.7984552907729168\n",
      "Classification Accuracy: 0.9088263821532493\n",
      "\n",
      "Regression Results (Actual vs Predicted):\n",
      "      Actual  Predicted\n",
      "3930  1.7258   1.696190\n",
      "2689  0.9641   1.068897\n",
      "3667  1.8073   2.431779\n",
      "1908  2.9220   2.919821\n",
      "1859  1.4248   1.370229\n",
      "...      ...        ...\n",
      "3481  3.2435   2.789190\n",
      "3857  1.3344   1.648026\n",
      "4279  0.9639   1.453642\n",
      "4864  1.4270   2.136060\n",
      "3324  2.2611   2.230441\n",
      "\n",
      "[316 rows x 2 columns]\n"
     ]
    }
   ],
   "source": [
    "\n",
    "\n",
    "# Now for the regression task, we only use insulators\n",
    "insulators_data = df[df['PBE band gap'] > 0.5]\n",
    "X_regression = insulators_data.drop(columns=['PBE band gap'])\n",
    "y_regression = insulators_data['PBE band gap']\n",
    "\n",
    "# Split the insulator dataset into training and testing sets\n",
    "X_train_reg, X_test_reg, y_train_reg, y_test_reg = train_test_split(X_regression, y_regression, test_size=0.2, random_state=42)\n",
    "\n",
    "# Create and train the regression model\n",
    "regressor = RandomForestRegressor(n_estimators=100, random_state=42)\n",
    "regressor.fit(X_train_reg, y_train_reg)\n",
    "\n",
    "# Make predictions\n",
    "y_pred_reg = regressor.predict(X_test_reg)\n",
    "\n",
    "# Evaluate the regression model\n",
    "mse = mean_squared_error(y_test_reg, y_pred_reg)\n",
    "print(f'Mean Squared Error for Regression: {mse}')\n",
    "\n",
    "# Calculating R^2 for regression \n",
    "r2 = r2_score(y_test_reg, y_pred_reg)\n",
    "print(f'R^2 Score for Regression: {r2}')\n",
    "\n",
    "# DataFrame for actual vs predicted values for regression\n",
    "regression_results = pd.DataFrame({\n",
    "    'Actual': y_test_reg,\n",
    "    'Predicted': y_pred_reg\n",
    "})\n",
    "\n",
    "classification_accuracy = accuracy_score(y_test_class, y_pred_class)\n",
    "print(f'Classification Accuracy: {classification_accuracy}')\n",
    "\n",
    "\n",
    "print(\"\\nRegression Results (Actual vs Predicted):\")\n",
    "print(regression_results)\n"
   ]
  },
  {
   "cell_type": "markdown",
   "metadata": {},
   "source": [
    "OUTPUTS"
   ]
  },
  {
   "cell_type": "code",
   "execution_count": 8,
   "metadata": {},
   "outputs": [
    {
     "data": {
      "image/png": "[encoded data removed]",
      "text/plain": [
       "<Figure size 1000x600 with 1 Axes>"
      ]
     },
     "metadata": {},
     "output_type": "display_data"
    }
   ],
   "source": [
    "#OUTPUTS on screen\n",
    "plt.figure(figsize=(10, 6))\n",
    "sns.scatterplot(x=y_test_reg, y=y_pred_reg)\n",
    "plt.xlabel('Actual Band Gap')\n",
    "plt.ylabel('Predicted Band Gap')\n",
    "plt.title('Actual vs Predicted Band Gap for Insulators')\n",
    "plt.plot([0, max(y_test_reg)], [0, max(y_test_reg)], color='red', linestyle='--')  # Diagonal line\n",
    "plt.show()"
   ]
  },
  {
   "cell_type": "markdown",
   "metadata": {},
   "source": [
    "Classification"
   ]
  },
  {
   "cell_type": "code",
   "execution_count": 18,
   "metadata": {},
   "outputs": [
    {
     "name": "stdout",
     "output_type": "stream",
     "text": [
      "Data Information:\n",
      "<class 'pandas.core.frame.DataFrame'>\n",
      "RangeIndex: 5152 entries, 0 to 5151\n",
      "Data columns (total 38 columns):\n",
      " #   Column            Non-Null Count  Dtype  \n",
      "---  ------            --------------  -----  \n",
      " 0   functional group  5152 non-null   object \n",
      " 1   A                 5152 non-null   object \n",
      " 2   A_OS              5152 non-null   int64  \n",
      " 3   A'                5152 non-null   object \n",
      " 4   A'_OS             5152 non-null   int64  \n",
      " 5   A_HOMO-           5152 non-null   float64\n",
      " 6   A_HOMO+           5152 non-null   float64\n",
      " 7   A_IE-             5152 non-null   float64\n",
      " 8   A_IE+             5152 non-null   float64\n",
      " 9   A_LUMO-           5152 non-null   float64\n",
      " 10  A_LUMO+           5152 non-null   float64\n",
      " 11  A_X-              5152 non-null   float64\n",
      " 12  A_X+              5152 non-null   float64\n",
      " 13  A_Z_radii-        5152 non-null   float64\n",
      " 14  A_Z_radii+        5152 non-null   float64\n",
      " 15  A_e_affin-        5152 non-null   float64\n",
      " 16  A_e_affin+        5152 non-null   float64\n",
      " 17  Bi                5152 non-null   object \n",
      " 18  B_OS              5152 non-null   int64  \n",
      " 19  B'                5152 non-null   object \n",
      " 20  B'_OS             5152 non-null   float64\n",
      " 21  B_HOMO-           5152 non-null   float64\n",
      " 22  B_HOMO+           5152 non-null   float64\n",
      " 23  B_IE-             5152 non-null   float64\n",
      " 24  B_IE+             5152 non-null   float64\n",
      " 25  B_LUMO-           5152 non-null   float64\n",
      " 26  B_LUMO+           5152 non-null   float64\n",
      " 27  B_X-              5152 non-null   float64\n",
      " 28  B_X+              5152 non-null   float64\n",
      " 29  B_Z_radii-        5152 non-null   float64\n",
      " 30  B_Z_radii+        5152 non-null   float64\n",
      " 31  B_e_affin-        5152 non-null   float64\n",
      " 32  B_e_affin+        5152 non-null   float64\n",
      " 33  PBE band gap      5152 non-null   float64\n",
      " 34  μ                 5152 non-null   float64\n",
      " 35  μĀ                5152 non-null   float64\n",
      " 36  μ𝐵 ̅              5152 non-null   float64\n",
      " 37  t                 5152 non-null   float64\n",
      "dtypes: float64(30), int64(3), object(5)\n",
      "memory usage: 1.5+ MB\n",
      "None\n",
      "\n",
      "First few rows of the dataset:\n",
      "  functional group   A  A_OS  A'  A'_OS  A_HOMO-  A_HOMO+   A_IE-   A_IE+  \\\n",
      "0       AgBaAuCdO6  Ag     3  Ba      2    0.585   -3.820  114.05  616.95   \n",
      "1       AgBaAuHgO6  Ag     3  Ba      2    0.585   -3.820  114.05  616.95   \n",
      "2       AgBaMoCdO6  Ag     3  Ba      2    0.585   -3.820  114.05  616.95   \n",
      "3           AgBiO3  Ag     1  Ag      1    0.000   -4.405    0.00  731.00   \n",
      "4           AgBrO3  Ag     1  Ag      1    0.000   -4.405    0.00  731.00   \n",
      "\n",
      "   A_LUMO-  ...   B_X+  B_Z_radii-  B_Z_radii+  B_e_affin-  B_e_affin+  \\\n",
      "0   0.6485  ...  2.115      0.2225      2.4375       145.4        77.4   \n",
      "1   0.6485  ...  2.270      0.1250      2.5350       135.4        87.4   \n",
      "2   0.6485  ...  1.925      0.2525      2.4675        70.0         2.0   \n",
      "3   0.0000  ...  2.020      0.0000      1.9970         0.0        91.3   \n",
      "4   0.0000  ...  2.960      0.0000      1.2000         0.0       324.7   \n",
      "\n",
      "   PBE band gap        μ       μĀ     μ𝐵 ̅        t  \n",
      "0        0.0000  0.54286  0.13571  0.13571  0.92317  \n",
      "1        0.0000  0.56786  0.13571  0.16071  0.90845  \n",
      "2        0.0000  0.55714  0.13571  0.12143  0.91470  \n",
      "3        0.0000  0.54286  0.00000  0.00000  0.94608  \n",
      "4        0.1524  0.44286  0.00000  0.00000  1.01165  \n",
      "\n",
      "[5 rows x 38 columns]\n",
      "\n",
      "Missing values in each column:\n",
      " functional group    0\n",
      "A                   0\n",
      "A_OS                0\n",
      "A'                  0\n",
      "A'_OS               0\n",
      "A_HOMO-             0\n",
      "A_HOMO+             0\n",
      "A_IE-               0\n",
      "A_IE+               0\n",
      "A_LUMO-             0\n",
      "A_LUMO+             0\n",
      "A_X-                0\n",
      "A_X+                0\n",
      "A_Z_radii-          0\n",
      "A_Z_radii+          0\n",
      "A_e_affin-          0\n",
      "A_e_affin+          0\n",
      "Bi                  0\n",
      "B_OS                0\n",
      "B'                  0\n",
      "B'_OS               0\n",
      "B_HOMO-             0\n",
      "B_HOMO+             0\n",
      "B_IE-               0\n",
      "B_IE+               0\n",
      "B_LUMO-             0\n",
      "B_LUMO+             0\n",
      "B_X-                0\n",
      "B_X+                0\n",
      "B_Z_radii-          0\n",
      "B_Z_radii+          0\n",
      "B_e_affin-          0\n",
      "B_e_affin+          0\n",
      "PBE band gap        0\n",
      "μ                   0\n",
      "μĀ                  0\n",
      "μ𝐵 ̅                0\n",
      "t                   0\n",
      "dtype: int64\n",
      "\n",
      "Missing values after cleaning 'PBE band gap':\n",
      " 0\n"
     ]
    }
   ],
   "source": [
    "# Import necessary libraries\n",
    "import pandas as pd\n",
    "import numpy as np\n",
    "import matplotlib.pyplot as plt\n",
    "import seaborn as sns\n",
    "from sklearn.model_selection import train_test_split\n",
    "from sklearn.preprocessing import StandardScaler\n",
    "from sklearn.ensemble import RandomForestClassifier\n",
    "from sklearn.metrics import accuracy_score, classification_report, confusion_matrix\n",
    "from sklearn.impute import SimpleImputer\n",
    "\n",
    "# Load the dataframe\n",
    "df = pd.read_excel(\"dataset_excavate.xlsx\")  # Change to your file path\n",
    "\n",
    "# Display basic information\n",
    "print(\"Data Information:\")\n",
    "print(df.info())\n",
    "print(\"\\nFirst few rows of the dataset:\")\n",
    "print(df.head())\n",
    "\n",
    "# Check for missing values\n",
    "print(\"\\nMissing values in each column:\\n\", df.isnull().sum())\n",
    "\n",
    "# Clean the 'PBE band gap' column\n",
    "# Convert to numeric, replacing non-numeric values with NaN\n",
    "df['PBE band gap'] = pd.to_numeric(df['PBE band gap'], errors='coerce')\n",
    "\n",
    "# Check for missing values again after conversion\n",
    "print(\"\\nMissing values after cleaning 'PBE band gap':\\n\", df['PBE band gap'].isnull().sum())\n"
   ]
  },
  {
   "cell_type": "markdown",
   "metadata": {},
   "source": [
    "Classfication (>=)"
   ]
  },
  {
   "cell_type": "code",
   "execution_count": null,
   "metadata": {},
   "outputs": [],
   "source": [
    "# Impute missing values in 'PBE band gap' with the mean\n",
    "imputer = SimpleImputer(strategy='mean')\n",
    "df['PBE band gap'] = imputer.fit_transform(df[['PBE band gap']])\n",
    "\n",
    "# Check the shape of the DataFrame after imputation\n",
    "print(\"\\nShape of DataFrame after imputation:\", df.shape)\n",
    "\n",
    "# Define target for classification (Binary)\n",
    "df['is_insulator'] = df['PBE band gap'].apply(lambda x: 1 if x >= 0.5 else 0)\n",
    "\n",
    "# Splitting Features and Target\n",
    "X = df.drop(columns=['PBE band gap', 'functional group', 'is_insulator'], errors='ignore')  # Drop non-numeric and target columns\n",
    "y = df['is_insulator']\n",
    "\n",
    "# Ensure all columns in X are numeric\n",
    "X = X.apply(pd.to_numeric, errors='coerce')\n",
    "\n",
    "# Impute missing values in features with the mean\n",
    "X_imputer = SimpleImputer(strategy='mean')\n",
    "X = X_imputer.fit_transform(X)\n",
    "\n",
    "# Check the shape of X to ensure it's not empty\n",
    "print(\"\\nShape of X after imputation:\", X.shape)"
   ]
  },
  {
   "cell_type": "markdown",
   "metadata": {},
   "source": [
    "Normalization"
   ]
  },
  {
   "cell_type": "code",
   "execution_count": 16,
   "metadata": {},
   "outputs": [],
   "source": [
    "# Normalize data\n",
    "scaler = StandardScaler()\n",
    "X_scaled = scaler.fit_transform(X)\n",
    "\n",
    "# Split dataset\n",
    "X_train, X_test, y_train, y_test = train_test_split(X_scaled, y, test_size=0.2, random_state=42)\n",
    "\n",
    "# Train Classification Model\n",
    "clf = RandomForestClassifier(n_estimators=100, random_state=42)\n",
    "clf.fit(X_train, y_train)\n",
    "\n",
    "# Predictions\n",
    "y_pred = clf.predict(X_test)"
   ]
  },
  {
   "cell_type": "markdown",
   "metadata": {},
   "source": [
    "Confusion Matrix"
   ]
  },
  {
   "cell_type": "code",
   "execution_count": 17,
   "metadata": {},
   "outputs": [
    {
     "name": "stdout",
     "output_type": "stream",
     "text": [
      "\n",
      "Classification Accuracy: 0.9078564500484966\n",
      "\n",
      "Classification Report:\n",
      "               precision    recall  f1-score   support\n",
      "\n",
      "           0       0.90      0.97      0.93       694\n",
      "           1       0.93      0.78      0.85       337\n",
      "\n",
      "    accuracy                           0.91      1031\n",
      "   macro avg       0.91      0.88      0.89      1031\n",
      "weighted avg       0.91      0.91      0.91      1031\n",
      "\n"
     ]
    },
    {
     "data": {
      "image/png": "[encoded data removed]",
      "text/plain": [
       "<Figure size 600x600 with 2 Axes>"
      ]
     },
     "metadata": {},
     "output_type": "display_data"
    }
   ],
   "source": [
    "# Evaluate Classification\n",
    "print(\"\\nClassification Accuracy:\", accuracy_score(y_test, y_pred))\n",
    "print(\"\\nClassification Report:\\n\", classification_report(y_test, y_pred))\n",
    "\n",
    "# Confusion Matrix\n",
    "conf_matrix = confusion_matrix(y_test, y_pred)\n",
    "plt.figure(figsize=(6, 6))\n",
    "sns.heatmap(conf_matrix, annot=True, fmt='d', cmap='Blues', xticklabels=['Non-Insulator', 'Insulator'], yticklabels=['Non-Insulator', 'Insulator'])\n",
    "plt.ylabel('Actual')\n",
    "plt.xlabel('Predicted')\n",
    "plt.title('Confusion Matrix')\n",
    "plt.show()"
   ]
  },
  {
   "cell_type": "code",
   "execution_count": null,
   "metadata": {},
   "outputs": [],
   "source": []
  }
 ],
 "metadata": {
  "kernelspec": {
   "display_name": "base",
   "language": "python",
   "name": "python3"
  },
  "language_info": {
   "codemirror_mode": {
    "name": "ipython",
    "version": 3
   },
   "file_extension": ".py",
   "mimetype": "text/x-python",
   "name": "python",
   "nbconvert_exporter": "python",
   "pygments_lexer": "ipython3",
   "version": "3.12.4"
  }
 },
 "nbformat": 4,
 "nbformat_minor": 2
}
